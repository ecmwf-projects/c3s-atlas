{
 "cells": [
  {
   "cell_type": "markdown",
   "id": "2c701559-7278-43d5-a8f8-800bbf30d971",
   "metadata": {},
   "source": [
    "# C3S Atlas notebooks"
   ]
  },
  {
   "cell_type": "markdown",
   "id": "d60ba3a6-7a05-43a1-8741-8bafd7bcd77a",
   "metadata": {},
   "source": [
    "***\n",
    "\n",
    "> This notebook reproduces the calculation of indices forming the dataset underpinning the Copernicus Interactive Climate Atlas (C3S Atlas, [https://atlas.climate.copernicus.eu/atlas](https://atlas.climate.copernicus.eu/atlas)) that is distributed by the CDS catalogue (https://cds.climate.copernicus.eu/). It is part of a notebook library produced for reproducibility and reusability purposes. This work is licensed under a [Creative Commons Attribution 4.0 International License](http://creativecommons.org/licenses/by/4.0) and has been produced by IFCA-CSIC and Predictia for the C3S.\n",
    ">\n",
    "> ![Creative Commons License >](https://i.creativecommons.org/l/by/4.0/88x31.png)"
   ]
  },
  {
   "cell_type": "markdown",
   "id": "b166ba1e",
   "metadata": {},
   "source": [
    "# Calculate tx35bals for CMIP6\n",
    "\n",
    "This Jupyter Notebook calculates the index **tx35**  with bias adjusted (ba) using the linear scaling method based on Douglas Maraun 2016 (**tx35bals**) for the CMIP6-CMCC_ESM2 model (year 2080). **WFDE5** is used as reference dataset for the \"ba\". The results are compared with the \"Copernicus Interactive Climate Atlas: gridded monthly dataset\" (Task **C3S2_381_11**) produced using the workflow described in Deliverable **D381.1.3.1** which is available in the project's GitLab repository: https://gitlab.predictia.es/c3s-cica/data\n",
    "\n",
    "Figure 1 shows the scheme of the workflow designed for data production in the context of the C3S Atlas. Note that bias adjustment includes implicitly a change of grid (from the GCM to the observations) but this is not indicated as a regridding operation.\n",
    "\n",
    "To calculate an index:\n",
    " - Download climate data from the C3S-CDS using the CDS API.\n",
    "   \n",
    " - Download the reference datasets (**only for bias adjusted indices**).\n",
    " - Perform data homogenization to ensure the same calendar time, coordinate names, variable units, dimension order, among other things.\n",
    " - Interpolate both the projections and the reference dataset to a regular-common grid using conservative remapping (**only for bias adjusted indices**).\n",
    " - Calculate the index.\n",
    " - Perform temporal aggregation.\n",
    " - Interpolate to a regular-common grid using conservative remapping (**only for no bias adjusted indices**)"
   ]
  },
  {
   "cell_type": "markdown",
   "id": "28e61bf5-3feb-4846-808a-041e8815db7a",
   "metadata": {},
   "source": [
    "![C3S Atlas workflow](workflow.png)"
   ]
  },
  {
   "cell_type": "markdown",
   "id": "5c8109ae-bb0d-4327-84eb-7a734b8e7712",
   "metadata": {},
   "source": [
    "**<span style=\"color:red\">Please be advised that downloading the required data for this script may take several minutes.</span>**"
   ]
  },
  {
   "cell_type": "markdown",
   "id": "6619fbb1-c71e-4cd1-bd57-911c304498bc",
   "metadata": {},
   "source": [
    "### Load Python packages and clone and install the **user-tools** repository from the C3S Atlas GitLab repository\n",
    "\n",
    "Clone (`git clone`) the [C3S-Atlas-user-tools](https://gitlab.predictia.es/c3s-cica/c3s-atlas) repository and install them (`pip install -e .`).\n",
    "\n",
    "Further details on how to clone and install the repository are available in the requirements section of the README: https://gitlab.predictia.es/c3s-cica/c3s-atlas#requirements"
   ]
  },
  {
   "cell_type": "code",
   "execution_count": 12,
   "id": "4632c7ac-204a-4aa0-9796-86678e03600e",
   "metadata": {},
   "outputs": [],
   "source": [
    "import cdsapi\n",
    "import os\n",
    "from pathlib import Path\n",
    "import xarray as xr\n",
    "import xclim\n",
    "import numpy as np\n",
    "import pandas as pd\n",
    "import matplotlib.pyplot as plt\n",
    "import cartopy.crs as ccrs\n",
    "import glob\n",
    "\n",
    "from c3s_atlas.software.utils import (\n",
    "    extract_zip_and_delete,\n",
    "    get_ds_to_fill,\n",
    "    plot_month\n",
    ")\n",
    "from c3s_atlas.software.fixers import (\n",
    "    apply_fixers\n",
    ")\n",
    "import c3s_atlas.software.interpolation as xesmfCICA"
   ]
  },
  {
   "cell_type": "markdown",
   "id": "1d684c51",
   "metadata": {},
   "source": [
    "### Dowload climate data with the CDS API\n",
    "- Catalogs: \n",
    "    - CMIP6: [https://cds.climate.copernicus.eu/cdsapp#!/dataset/projections-cmip6?tab=overview](https://cds.climate.copernicus.eu/cdsapp#!/dataset/projections-cmip6?tab=overview)\n",
    "    - WFDE5: [https://cds.climate.copernicus.eu/cdsapp#!/dataset/derived-near-surface-meteorological-variables?tab=overview](https://cds.climate.copernicus.eu/cdsapp#!/dataset/derived-near-surface-meteorological-variables?tab=overview)\n",
    "\n",
    "- How to use the CDS API: [https://cds.climate.copernicus.eu/api-how-to](https://cds.climate.copernicus.eu/api-how-to)"
   ]
  },
  {
   "cell_type": "code",
   "execution_count": 22,
   "id": "f31f6662",
   "metadata": {},
   "outputs": [],
   "source": [
    "# define some global attributes for the CDS-API\n",
    "CMIP6_years = {\n",
    "    \"historical\": [str(n) for n in np.arange(2005, 2006)],\n",
    "    \"ssp5_8_5\": [\"2080\"]\n",
    "}\n",
    "# variables\n",
    "variables = {\n",
    "    'tx': 'daily_maximum_near_surface_air_temperature',\n",
    "}\n",
    "# directory to download the files\n",
    "file_dest_CMIP6 = Path('./data/CMIP6')\n",
    "file_dest_WFDE5 = Path('./data/WFDE5')"
   ]
  },
  {
   "cell_type": "code",
   "execution_count": 15,
   "id": "9c360c73-3f35-478e-8736-5f19092bbe12",
   "metadata": {},
   "outputs": [],
   "source": [
    "months = [\n",
    "    '01', '02', '03',\n",
    "    '04', '05', '06',\n",
    "    '07', '08', '09',\n",
    "    '10', '11', '12'\n",
    "]\n",
    "        \n",
    "days = [\n",
    "    '01', '02', '03',\n",
    "    '04', '05', '06',\n",
    "    '07', '08', '09',\n",
    "    '10', '11', '12',\n",
    "    '13', '14', '15',\n",
    "    '16', '17', '18',\n",
    "    '19', '20', '21',\n",
    "    '22', '23', '24',\n",
    "    '25', '26', '27',\n",
    "    '28', '29', '30', '31'\n",
    "]"
   ]
  },
  {
   "cell_type": "code",
   "execution_count": 16,
   "id": "da17a4d0",
   "metadata": {},
   "outputs": [],
   "source": [
    "c = cdsapi.Client()"
   ]
  },
  {
   "cell_type": "markdown",
   "id": "df10cb95",
   "metadata": {},
   "source": [
    "#### Download CMIP6 data \n",
    "- Year 2080 for the ssp5_8_5 scenario\n",
    "- Period 1980-2006 for the historical scenario."
   ]
  },
  {
   "cell_type": "code",
   "execution_count": null,
   "id": "ffc9b9a6",
   "metadata": {
    "scrolled": true
   },
   "outputs": [],
   "source": [
    "os.makedirs(file_dest_CMIP6, exist_ok=True)\n",
    "\n",
    "for experiment in CMIP6_years.keys():\n",
    "    for year in CMIP6_years[experiment]:\n",
    "        for var in variables.keys():\n",
    "            path_zip = file_dest_CMIP6 / f\"CMIP6_{var}_{experiment}_{year}.zip\"\n",
    "            c.retrieve(\n",
    "                'projections-cmip6',\n",
    "                {\n",
    "                    'format': 'zip',\n",
    "                    'temporal_resolution': 'daily',\n",
    "                    'variable': variables[var],\n",
    "                    'experiment': experiment,\n",
    "                    'model': 'cmcc_esm2',\n",
    "                    'year': [year],\n",
    "                    'month': months,\n",
    "                    'day': days,\n",
    "                    'area':[45.5, 5.5, 34, -11.5], # crop area for Spain\n",
    "                },\n",
    "                path_zip)\n",
    "            # Extract zip file into the specified directory and remove zip\n",
    "            extract_zip_and_delete(path_zip) "
   ]
  },
  {
   "cell_type": "markdown",
   "id": "244840e2-de0a-49e5-9646-c4b27fac853f",
   "metadata": {},
   "source": [
    "#### Download WFDE5 data \n",
    "- Period 1980-2006"
   ]
  },
  {
   "cell_type": "code",
   "execution_count": 17,
   "id": "9fcf4ec5-b742-4c6c-a4cf-80faac6a4bc5",
   "metadata": {},
   "outputs": [],
   "source": [
    "# variables\n",
    "variables = {\n",
    "    't': 'near_surface_air_temperature',\n",
    "}"
   ]
  },
  {
   "cell_type": "code",
   "execution_count": null,
   "id": "54a4d4be-657c-4821-a7c8-95187d8ae91b",
   "metadata": {},
   "outputs": [],
   "source": [
    "os.makedirs(file_dest_WFDE5, exist_ok=True)\n",
    "\n",
    "for year in CMIP6_years['historical']:\n",
    "    for month in months:\n",
    "        for var in variables.keys():\n",
    "            path_zip = file_dest_WFDE5 / f\"WFDE5_{var}_{year}_{month}_globe.zip\"\n",
    "            c.retrieve(\n",
    "                'derived-near-surface-meteorological-variables',\n",
    "                {\n",
    "                    'version': '2_1',\n",
    "                    'month': month,\n",
    "                    'reference_dataset': 'cru',\n",
    "                    'variable': 'near_surface_air_temperature',\n",
    "                    'year': year,\n",
    "                }).download(path_zip)\n",
    "            # Extract zip file into the specified directory and remove zip\n",
    "            extract_zip_and_delete(path_zip)\n",
    "            # Crop area an save\n",
    "            ds = xr.open_dataset(path_zip.with_suffix(\".nc\"))\n",
    "            ds = ds.sel(lat = slice(34, 45.5), lon = slice(-11.5 , 5.5))\n",
    "            file = file_dest_WFDE5 / f\"WFDE5_{var}_{year}_{month}.nc\"\n",
    "            ds.to_netcdf(file)\n",
    "            os.remove(path_zip.with_suffix(\".nc\"))"
   ]
  },
  {
   "cell_type": "markdown",
   "id": "663a5240",
   "metadata": {},
   "source": [
    "### Load files with xarray\n",
    "\n",
    "- https://docs.xarray.dev/en/stable/"
   ]
  },
  {
   "cell_type": "code",
   "execution_count": 24,
   "id": "fed98dad",
   "metadata": {},
   "outputs": [],
   "source": [
    "# load CMIP6 files\n",
    "ds_CMIP6_hist = xr.open_mfdataset(\n",
    "    np.sort(glob.glob(str(file_dest_CMIP6 / \"*tx_historical*.nc\"))), \n",
    "    concat_dim='time', combine='nested'\n",
    ")\n",
    "\n",
    "ds_CMIP6_ssp585 = xr.open_mfdataset(\n",
    "    np.sort(glob.glob(str(file_dest_CMIP6 / \"*tx_ssp5_8_5*.nc\"))), \n",
    "    concat_dim='time', combine='nested'\n",
    ")\n",
    "# load WFDE5 files\n",
    "ds_WFDE5_hist = xr.open_mfdataset(\n",
    "    np.sort(glob.glob(str(file_dest_WFDE5 / \"*WFDE5_t*.nc\"))), \n",
    "    concat_dim='time', combine='nested'\n",
    ")"
   ]
  },
  {
   "cell_type": "markdown",
   "id": "d9ac68a4",
   "metadata": {},
   "source": [
    "### Homegenization\n",
    "Once the data is downloaded from the CDS it undergoes a process of homogenization:\n",
    "- The metadata of the **spatial coordinates** is homogenised to use standard names, in particular [lon, lat].\n",
    "  \n",
    "- Fix any non-standard **calendars** used in the data. This typically involves converting the calendars to the CF standard calendar (Mixed Gregorian/Julian) commonly used in climate data. \n",
    "- Convert the **units** of the data to a common format (e.g. Celsius for temperature). This prevents us from working with the same variables in different units, for example.\n",
    "- Convert the **longitude** values from the [0, 360] format to the [-180, 180] one. This is done to ensure that the longitude variable is common between the different datasets.\n",
    "- **Aggregated to the required temporal resolution**. For example, hourly datasets (such as ERA5, ERA5-Land, WFDE5, etc.) will be resampled to daily resolution. This involves using a temporal aggregation method, such as taking the maximum or minimum value for a given variable. As part of this last step, some variable transformations are necessarily applied. For instance, fluxes variables in ERA5 are accumulated, and therefore, the last hour of the day represent daily accumulations. To mention another case, the surface wind is computed as a combination of both the u- and v-components."
   ]
  },
  {
   "cell_type": "code",
   "execution_count": 25,
   "id": "89dcd72f",
   "metadata": {},
   "outputs": [
    {
     "name": "stderr",
     "output_type": "stream",
     "text": [
      "2024-12-06 17:41:41,984 — Homogenization-fixers — INFO — Dataset has already the correct names for its coordinates\n",
      "2024-12-06 17:41:42,145 — Homogenization-fixers — INFO — Fixing calendar for <xarray.Dataset> Size: 11MB\n",
      "Dimensions:    (time: 9490, bnds: 2, lat: 12, lon: 14)\n",
      "Coordinates:\n",
      "  * time       (time) object 76kB 1980-01-01 12:00:00 ... 2005-12-31 12:00:00\n",
      "  * lat        (lat) float64 96B 34.4 35.34 36.28 37.23 ... 42.88 43.82 44.76\n",
      "  * lon        (lon) float64 112B -11.25 -10.0 -8.75 -7.5 ... 1.25 2.5 3.75 5.0\n",
      "    height     float64 8B 2.0\n",
      "Dimensions without coordinates: bnds\n",
      "Data variables:\n",
      "    time_bnds  (time, bnds) object 152kB dask.array<chunksize=(1, 2), meta=np.ndarray>\n",
      "    lat_bnds   (time, lat, bnds) float64 2MB dask.array<chunksize=(365, 12, 2), meta=np.ndarray>\n",
      "    lon_bnds   (time, lon, bnds) float64 2MB dask.array<chunksize=(365, 14, 2), meta=np.ndarray>\n",
      "    tasmax     (time, lat, lon) float32 6MB dask.array<chunksize=(1, 12, 14), meta=np.ndarray>\n",
      "Attributes: (12/48)\n",
      "    Conventions:            CF-1.7 CMIP-6.2\n",
      "    activity_id:            CMIP\n",
      "    branch_method:          standard\n",
      "    branch_time_in_child:   0.0\n",
      "    branch_time_in_parent:  0.0\n",
      "    comment:                none\n",
      "    ...                     ...\n",
      "    title:                  CMCC-ESM2 output prepared for CMIP6\n",
      "    variable_id:            tasmax\n",
      "    variant_label:          r1i1p1f1\n",
      "    license:                CMIP6 model data produced by CMCC is licensed und...\n",
      "    cmor_version:           3.6.0\n",
      "    tracking_id:            hdl:21.14100/2efee083-6db2-43be-8d07-f197a5055a90\n",
      "2024-12-06 17:41:42,734 — UNITS_TRANSFORM — INFO — The dataset tasmax units are not in the correct magnitude. A conversion from K to Celsius will be performed.\n",
      "2024-12-06 17:41:42,760 — Homogenization-fixers — INFO — The dataset is in daily or monthly resolution, we don't need to resample it from hourly frequency\n",
      "2024-12-06 17:41:42,765 — Homogenization-fixers — INFO — Dataset has already the correct names for its coordinates\n",
      "2024-12-06 17:41:42,772 — Homogenization-fixers — INFO — Fixing calendar for <xarray.Dataset> Size: 406kB\n",
      "Dimensions:    (time: 365, bnds: 2, lat: 12, lon: 14)\n",
      "Coordinates:\n",
      "  * time       (time) object 3kB 2080-01-01 12:00:00 ... 2080-12-31 12:00:00\n",
      "  * lat        (lat) float64 96B 34.4 35.34 36.28 37.23 ... 42.88 43.82 44.76\n",
      "  * lon        (lon) float64 112B -11.25 -10.0 -8.75 -7.5 ... 1.25 2.5 3.75 5.0\n",
      "    height     float64 8B ...\n",
      "Dimensions without coordinates: bnds\n",
      "Data variables:\n",
      "    time_bnds  (time, bnds) object 6kB dask.array<chunksize=(1, 2), meta=np.ndarray>\n",
      "    lat_bnds   (time, lat, bnds) float64 70kB dask.array<chunksize=(365, 12, 2), meta=np.ndarray>\n",
      "    lon_bnds   (time, lon, bnds) float64 82kB dask.array<chunksize=(365, 14, 2), meta=np.ndarray>\n",
      "    tasmax     (time, lat, lon) float32 245kB dask.array<chunksize=(1, 12, 14), meta=np.ndarray>\n",
      "Attributes: (12/48)\n",
      "    Conventions:            CF-1.7 CMIP-6.2\n",
      "    activity_id:            ScenarioMIP\n",
      "    branch_method:          standard\n",
      "    branch_time_in_child:   60225.0\n",
      "    branch_time_in_parent:  60225.0\n",
      "    comment:                none\n",
      "    ...                     ...\n",
      "    title:                  CMCC-ESM2 output prepared for CMIP6\n",
      "    variable_id:            tasmax\n",
      "    variant_label:          r1i1p1f1\n",
      "    license:                CMIP6 model data produced by CMCC is licensed und...\n",
      "    cmor_version:           3.6.0\n",
      "    tracking_id:            hdl:21.14100/ba2e335b-8bac-45ec-abbe-f1f16299d2d4\n",
      "2024-12-06 17:41:42,809 — UNITS_TRANSFORM — INFO — The dataset tasmax units are not in the correct magnitude. A conversion from K to Celsius will be performed.\n",
      "2024-12-06 17:41:42,822 — Homogenization-fixers — INFO — The dataset is in daily or monthly resolution, we don't need to resample it from hourly frequency\n"
     ]
    }
   ],
   "source": [
    "project_id = \"cmip6\"\n",
    "variable = 'tasmax'\n",
    "var_mapping = {\n",
    "            \"dataset_variable\": {\"tasmax\": \"tasmax\"},\n",
    "            \"aggregation\": {\"tasmax\": \"mean\"},\n",
    "        }\n",
    "ds_CMIP6_hist = apply_fixers(ds_CMIP6_hist, variable, project_id, var_mapping)\n",
    "ds_CMIP6_ssp585 = apply_fixers(ds_CMIP6_ssp585, variable, project_id, var_mapping)"
   ]
  },
  {
   "cell_type": "code",
   "execution_count": 26,
   "id": "afce66a0",
   "metadata": {},
   "outputs": [
    {
     "name": "stderr",
     "output_type": "stream",
     "text": [
      "2024-12-06 17:41:42,827 — Homogenization-fixers — INFO — Dataset has already the correct names for its coordinates\n",
      "2024-12-06 17:41:42,956 — Homogenization-fixers — INFO — Fixing calendar for <xarray.Dataset> Size: 715MB\n",
      "Dimensions:  (time: 227928, lat: 23, lon: 34)\n",
      "Coordinates:\n",
      "  * time     (time) datetime64[ns] 2MB 1980-01-01 ... 2005-12-31T23:00:00\n",
      "  * lon      (lon) float64 272B -11.25 -10.75 -10.25 -9.75 ... 4.25 4.75 5.25\n",
      "  * lat      (lat) float64 184B 34.25 34.75 35.25 35.75 ... 44.25 44.75 45.25\n",
      "Data variables:\n",
      "    Tair     (time, lat, lon) float32 713MB dask.array<chunksize=(744, 23, 34), meta=np.ndarray>\n",
      "Attributes:\n",
      "    title:        WATCH Forcing Data methodology applied to ERA5 data\n",
      "    institution:  Copernicus Climate Change Service\n",
      "    contact:      http://copernicus-support.ecmwf.int\n",
      "    comment:      Methodology implementation for ERA5 and dataset production ...\n",
      "    Conventions:  CF-1.7\n",
      "    summary:      ERA5 data regridded to half degree regular lat-lon; Genuine...\n",
      "    reference:    Cucchi et al., 2020, Earth Syst. Sci. Data, 12(3), 2097–212...\n",
      "    licence:      The dataset is distributed under the Licence to Use Coperni...\n",
      "2024-12-06 17:41:42,999 — UNITS_TRANSFORM — INFO — The dataset tasmax units are not in the correct magnitude. A conversion from K to Celsius will be performed.\n",
      "2024-12-06 17:41:43,021 — Homogenization-fixers — INFO — The dataset is in hourly resolution, we need to resample it to daily resolution\n",
      "2024-12-06 17:42:06,486 — Homogenization-fixers — INFO — Dataset resampled to daily resolution\n"
     ]
    }
   ],
   "source": [
    "project_id = \"WFDE5\"\n",
    "variable = 'tasmax'\n",
    "var_mapping = {\n",
    "            \"dataset_variable\": {\"tasmax\": \"Tair\"},\n",
    "            \"aggregation\": {\"tasmax\": \"maximum\"},\n",
    "        }\n",
    "ds_WFDE5_hist = apply_fixers(ds_WFDE5_hist, variable, project_id, var_mapping)"
   ]
  },
  {
   "cell_type": "markdown",
   "id": "bb44edba",
   "metadata": {},
   "source": [
    "### Interpolate to a common and regular grid using xESMF \n",
    "A wrapper for the [xESMF](https://xesmf.readthedocs.io/en/stable/) Python package was developed within the framework of the C3S Atlas project to extend its functionalities to all datasets (regular, curvilinear, etc.)"
   ]
  },
  {
   "cell_type": "code",
   "execution_count": 27,
   "id": "1a19858a",
   "metadata": {},
   "outputs": [],
   "source": [
    "# interpolate data\n",
    "int_attr = {'interpolation_method' : 'conservative_normed', \n",
    "            'lats' : np.arange(34.5, 46.5, 1),\n",
    "            'lons' : np.arange(-11.5, 6.5, 1),\n",
    "            'var_name' : 'tasmax'\n",
    "}"
   ]
  },
  {
   "cell_type": "code",
   "execution_count": 28,
   "id": "5f6de38c",
   "metadata": {},
   "outputs": [],
   "source": [
    "INTER = xesmfCICA.Interpolator(int_attr)"
   ]
  },
  {
   "cell_type": "code",
   "execution_count": null,
   "id": "5500a722",
   "metadata": {},
   "outputs": [],
   "source": [
    "ds_CMIP6_hist_i = INTER(ds_CMIP6_hist)\n",
    "ds_CMIP6_ssp585_i = INTER(ds_CMIP6_ssp585)\n",
    "ds_WFDE5_hist_i = INTER(ds_WFDE5_hist)"
   ]
  },
  {
   "cell_type": "markdown",
   "id": "0d1a226b",
   "metadata": {},
   "source": [
    "### Bias adjusted using ibicus\n",
    "Two methods of **ba** are applied in the C3S Atlas: the [LinearScaling](https://ibicus.readthedocs.io/en/latest/reference/debias.html#ibicus.debias.LinearScaling) (Douglas Maraun 2016) and the [ISIMIP](https://ibicus.readthedocs.io/en/latest/reference/debias.html#ibicus.debias.ISIMIP) (Lange 2019). Here, for simplicity, we applied the linear scaling one.\n",
    "\n",
    "- https://pypi.org/project/ibicus/"
   ]
  },
  {
   "cell_type": "code",
   "execution_count": 30,
   "id": "c38a8ae8",
   "metadata": {},
   "outputs": [],
   "source": [
    "from ibicus.debias import LinearScaling"
   ]
  },
  {
   "cell_type": "code",
   "execution_count": null,
   "id": "0e49add2",
   "metadata": {},
   "outputs": [],
   "source": [
    "# The same cofiguration as bellow is used in the C3S Atlas. \n",
    "# It implied that the Linear scaling method is applied month by month.\n",
    "args = {\n",
    "    \"running_window_mode\" : True,\n",
    "    \"running_window_length\" : 30,\n",
    "    \"running_window_step_length\" : 30\n",
    "}\n",
    "\n",
    "debiaser_obj = LinearScaling.from_variable(\n",
    "    variable = 'tasmax', \n",
    "    **args\n",
    ")"
   ]
  },
  {
   "cell_type": "code",
   "execution_count": null,
   "id": "0e0aae97",
   "metadata": {},
   "outputs": [],
   "source": [
    "ba_data = debiaser_obj.apply(\n",
    "    obs = ds_WFDE5_hist_i['tasmax'].values,\n",
    "    cm_hist = ds_CMIP6_hist_i['tasmax'].values,\n",
    "    cm_future = ds_CMIP6_ssp585_i['tasmax'].values,\n",
    ")"
   ]
  },
  {
   "cell_type": "code",
   "execution_count": 33,
   "id": "4ee8e60b-ba51-45f1-a680-e123b8eaf027",
   "metadata": {},
   "outputs": [],
   "source": [
    "ds_bias = get_ds_to_fill(\"tasmaxbals\", target = ds_CMIP6_ssp585_i, reference = ds_CMIP6_ssp585_i)\n",
    "ds_bias = ds_bias.transpose(\"time\", \"lat\", \"lon\")\n",
    "ds_bias[\"tasmaxbals\"][:] = ba_data\n",
    "ds_bias[\"tasmaxbals\"].attrs[\"units\"] = \"Celsius\" # xclim needs the atrribute units"
   ]
  },
  {
   "cell_type": "markdown",
   "id": "2ea1fc52",
   "metadata": {},
   "source": [
    "### Calculate index (tx35) and aggregate to monthly (MS) temporal resolution using xclim\n",
    "\n",
    "- https://xclim.readthedocs.io/en/stable/\n",
    "- https://pandas.pydata.org/pandas-docs/stable/user_guide/timeseries.html#dateoffset-objects"
   ]
  },
  {
   "cell_type": "code",
   "execution_count": 34,
   "id": "887846d8",
   "metadata": {},
   "outputs": [],
   "source": [
    "da_tx35bals = xclim.indices.tx_days_above(ds_bias['tasmaxbals'], \n",
    "                                          thresh='35.0 degC', freq='MS', op='>')"
   ]
  },
  {
   "cell_type": "code",
   "execution_count": 35,
   "id": "cae1d1ec",
   "metadata": {},
   "outputs": [],
   "source": [
    "# Convert DataArray to Dataset with specified variable name\n",
    "da_tx35bals = da_tx35bals.to_dataset(name='tx35bals')"
   ]
  },
  {
   "cell_type": "markdown",
   "id": "48551a25-8b1f-4933-86f3-37c6d7c8b670",
   "metadata": {},
   "source": [
    "### Compare the results with the \"Copernicus Interactive Climate Atlas: gridded monthly dataset\""
   ]
  },
  {
   "cell_type": "markdown",
   "id": "f96ebf13-a9a0-472e-aa80-f6f173e18629",
   "metadata": {},
   "source": [
    "- Catalog: [Copernicus Interactive Climate Atlas: gridded monthly dataset](https://cds.climate.copernicus.eu/datasets/multi-origin-c3s-atlas?tab=overview)"
   ]
  },
  {
   "cell_type": "code",
   "execution_count": 36,
   "id": "821df543-d149-4da5-b304-6b2e25b2a1fc",
   "metadata": {
    "slideshow": {
     "slide_type": ""
    },
    "tags": []
   },
   "outputs": [],
   "source": [
    "project = \"CMIP6\"\n",
    "scenario = \"ssp585\"\n",
    "var = 'pr'\n",
    "# directory to download the files\n",
    "dest = Path('./data/CMIP6')\n",
    "os.makedirs(dest, exist_ok=True)"
   ]
  },
  {
   "cell_type": "markdown",
   "id": "f26a1cc8-da82-47e4-be3d-abbae40f3a7b",
   "metadata": {},
   "source": [
    "##### Download SSP scenario"
   ]
  },
  {
   "cell_type": "code",
   "execution_count": null,
   "id": "7b322b78-9411-420a-b576-c864befe8085",
   "metadata": {},
   "outputs": [],
   "source": [
    "filename = 'tx35bals_CMIP6_ssp585_mon_201501-210012.zip'\n",
    "dataset = \"multi-origin-c3s-atlas\"\n",
    "request = {\n",
    "    'origin': 'cmip6',\n",
    "    'experiment': 'ssp5_8_5',\n",
    "    'domain': 'global',\n",
    "    'variable': 'monthly_count_of_days_with_bias_adjusted_maximum_temperature_above_35_c',\n",
    "    'area': [44.5, -9.5, 35.5, 3.5]\n",
    "}\n",
    "\n",
    "client = cdsapi.Client()\n",
    "client.retrieve(dataset, request).download(dest / filename)\n",
    "extract_zip_and_delete(dest / filename) "
   ]
  },
  {
   "cell_type": "code",
   "execution_count": 43,
   "id": "db94c7fd",
   "metadata": {},
   "outputs": [],
   "source": [
    "# load data with xarray\n",
    "ds_tx35bals_C3S_Atlas = xr.open_dataset(dest / \"tx35bals_CMIP6_ssp585_mon_201501-210012.nc\")"
   ]
  },
  {
   "cell_type": "code",
   "execution_count": 44,
   "id": "b076181f",
   "metadata": {},
   "outputs": [
    {
     "name": "stdout",
     "output_type": "stream",
     "text": [
      "CMCC_CMCC-ESM2_r1i1p1f1\n"
     ]
    }
   ],
   "source": [
    "# select member (note than member names in the \"Copernicus Interactive Climate Atlas: gridded monthly dataset\" \n",
    "# are remappend to follow the DRS as much as possible)\n",
    "select_member = [\n",
    "    str(mem.data) for mem in ds_tx35bals_C3S_Atlas.member_id if \"cmcc-esm2\" in str(mem.data).lower()\n",
    "][0]\n",
    "print(select_member)"
   ]
  },
  {
   "cell_type": "code",
   "execution_count": 45,
   "id": "79c76ebd",
   "metadata": {},
   "outputs": [],
   "source": [
    "ds_tx35bals_C3S_Atlas_member_year = ds_tx35bals_C3S_Atlas.sel(\n",
    "    member = np.where(ds_tx35bals_C3S_Atlas.member_id == select_member)[0], \n",
    "    time = \"2080\"\n",
    ")"
   ]
  },
  {
   "cell_type": "markdown",
   "id": "dcd8890c-66e4-46c2-bce2-d08caf2ff83b",
   "metadata": {},
   "source": [
    "#### Plot results for one month"
   ]
  },
  {
   "cell_type": "code",
   "execution_count": 46,
   "id": "d3061595-29a1-4898-95f9-789bc2bafe6a",
   "metadata": {},
   "outputs": [],
   "source": [
    "zoomin_extent = [-9.5, 3.5, 35.5, 44.5]"
   ]
  },
  {
   "cell_type": "code",
   "execution_count": 47,
   "id": "a15e4afa-f725-4b29-b10d-5d0a1246054f",
   "metadata": {},
   "outputs": [
    {
     "data": {
      "image/png": "[encoded data removed]",
      "text/plain": [
       "<Figure size 2000x600 with 4 Axes>"
      ]
     },
     "metadata": {},
     "output_type": "display_data"
    }
   ],
   "source": [
    "proj = ccrs.PlateCarree()\n",
    "fig, ax = plt.subplots(nrows=1, ncols=2, subplot_kw={'projection': proj}, figsize=(20, 6))\n",
    "# user-tools\n",
    "plot_month(ax[0], da_tx35bals, 'tx35bals', 8, 'User-tools', 'hot_r')\n",
    "ax[0].set_extent(zoomin_extent)\n",
    "# workflow (intermediate dataset)\n",
    "plot_month(ax[1], ds_tx35bals_C3S_Atlas_member_year, 'tx35bals', 8, 'Workflow', 'hot_r')\n",
    "ax[1].set_extent(zoomin_extent)\n",
    "plt.subplots_adjust(wspace=0.01, hspace=0.1) "
   ]
  }
 ],
 "metadata": {
  "kernelspec": {
   "display_name": "Python 3 (ipykernel)",
   "language": "python",
   "name": "python3"
  },
  "language_info": {
   "codemirror_mode": {
    "name": "ipython",
    "version": 3
   },
   "file_extension": ".py",
   "mimetype": "text/x-python",
   "name": "python",
   "nbconvert_exporter": "python",
   "pygments_lexer": "ipython3",
   "version": "3.12.3"
  }
 },
 "nbformat": 4,
 "nbformat_minor": 5
}
